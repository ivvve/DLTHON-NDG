{
 "cells": [
  {
   "cell_type": "code",
   "execution_count": 95,
   "id": "6a9e2350",
   "metadata": {},
   "outputs": [
    {
     "data": {
      "text/html": [
       "<div>\n",
       "<style scoped>\n",
       "    .dataframe tbody tr th:only-of-type {\n",
       "        vertical-align: middle;\n",
       "    }\n",
       "\n",
       "    .dataframe tbody tr th {\n",
       "        vertical-align: top;\n",
       "    }\n",
       "\n",
       "    .dataframe thead th {\n",
       "        text-align: right;\n",
       "    }\n",
       "</style>\n",
       "<table border=\"1\" class=\"dataframe\">\n",
       "  <thead>\n",
       "    <tr style=\"text-align: right;\">\n",
       "      <th></th>\n",
       "      <th>idx</th>\n",
       "      <th>class</th>\n",
       "      <th>conversation</th>\n",
       "    </tr>\n",
       "  </thead>\n",
       "  <tbody>\n",
       "    <tr>\n",
       "      <th>0</th>\n",
       "      <td>0</td>\n",
       "      <td>협박 대화</td>\n",
       "      <td>지금 너 스스로를 죽여달라고 애원하는 것인가?\\n 아닙니다. 죄송합니다.\\n 죽을 ...</td>\n",
       "    </tr>\n",
       "    <tr>\n",
       "      <th>1</th>\n",
       "      <td>1</td>\n",
       "      <td>협박 대화</td>\n",
       "      <td>길동경찰서입니다.\\n9시 40분 마트에 폭발물을 설치할거다.\\n네?\\n똑바로 들어 ...</td>\n",
       "    </tr>\n",
       "    <tr>\n",
       "      <th>2</th>\n",
       "      <td>2</td>\n",
       "      <td>기타 괴롭힘 대화</td>\n",
       "      <td>너 되게 귀여운거 알지? 나보다 작은 남자는 첨봤어.\\n그만해. 니들 놀리는거 재미...</td>\n",
       "    </tr>\n",
       "    <tr>\n",
       "      <th>3</th>\n",
       "      <td>3</td>\n",
       "      <td>갈취 대화</td>\n",
       "      <td>어이 거기\\n예??\\n너 말이야 너. 이리 오라고\\n무슨 일.\\n너 옷 좋아보인다?...</td>\n",
       "    </tr>\n",
       "    <tr>\n",
       "      <th>4</th>\n",
       "      <td>4</td>\n",
       "      <td>갈취 대화</td>\n",
       "      <td>저기요 혹시 날이 너무 뜨겁잖아요? 저희 회사에서 이 선크림 파는데 한 번 손등에 ...</td>\n",
       "    </tr>\n",
       "  </tbody>\n",
       "</table>\n",
       "</div>"
      ],
      "text/plain": [
       "   idx      class                                       conversation\n",
       "0    0      협박 대화  지금 너 스스로를 죽여달라고 애원하는 것인가?\\n 아닙니다. 죄송합니다.\\n 죽을 ...\n",
       "1    1      협박 대화  길동경찰서입니다.\\n9시 40분 마트에 폭발물을 설치할거다.\\n네?\\n똑바로 들어 ...\n",
       "2    2  기타 괴롭힘 대화  너 되게 귀여운거 알지? 나보다 작은 남자는 첨봤어.\\n그만해. 니들 놀리는거 재미...\n",
       "3    3      갈취 대화  어이 거기\\n예??\\n너 말이야 너. 이리 오라고\\n무슨 일.\\n너 옷 좋아보인다?...\n",
       "4    4      갈취 대화  저기요 혹시 날이 너무 뜨겁잖아요? 저희 회사에서 이 선크림 파는데 한 번 손등에 ..."
      ]
     },
     "execution_count": 95,
     "metadata": {},
     "output_type": "execute_result"
    }
   ],
   "source": [
    "import os\n",
    "import pandas as pd\n",
    "\n",
    "train_data_path =\"~/aiffel/dktc/data/train.csv\"\n",
    "train_data = pd.read_csv(train_data_path)\n",
    "train_data.head()"
   ]
  },
  {
   "cell_type": "code",
   "execution_count": 96,
   "id": "e8f7afeb",
   "metadata": {},
   "outputs": [
    {
     "name": "stdout",
     "output_type": "stream",
     "text": [
      "지금 너 스스로를 죽여달라고 애원하는 것인가?\n",
      " 아닙니다. 죄송합니다.\n",
      " 죽을 거면 혼자 죽지 우리까지 사건에 휘말리게 해? 진짜 죽여버리고 싶게.\n",
      " 정말 잘못했습니다.\n",
      " 너가 선택해. 너가 죽을래 네 가족을 죽여줄까.\n",
      " 죄송합니다. 정말 잘못했습니다.\n",
      " 너에게는 선택권이 없어. 선택 못한다면 너와 네 가족까지 모조리 죽여버릴거야.\n",
      " 선택 못하겠습니다. 한번만 도와주세요.\n",
      " 그냥 다 죽여버려야겠군. 이의 없지?\n",
      " 제발 도와주세요.\n",
      "3950\n"
     ]
    }
   ],
   "source": [
    "print(train_data[\"conversation\"][0])\n",
    "print(len(train_data))"
   ]
  },
  {
   "cell_type": "markdown",
   "id": "bb91898b",
   "metadata": {},
   "source": [
    "1. **데이터 EDA와 데이터 전처리가 적절하게 이뤄졌는가?**\n",
    "    * 결측치 제거\n",
    "    * 중복데이터 제거\n",
    "    * 불용어 제거 - 생성 모델이 아니기때문에 불용어를 제거해 중요한 단어만 넣는것이 중요하다고 생각\n",
    "    * 특수문자제거 또는 space bar로 변환\n",
    "    * 영어가 섞여있을 경우 소문자로 변환\n",
    "    * 숫자 처리는 어떻게 해야하는가? 숫자가 섞인 욕을 하는 경우가 있을 수 잇음. -> 숫자 그대로를 유지하는게 나을지 아니면 숫자를 의미를 가진 단어로 변환을 할지.\n",
    "    * 형태소 분석기를 사용하여 단어사전의 규모를 줄이는게 나을 수도 있지 않을까함. 그럴려면 맞춤법 검사기를 돌려야하나 생각이 들긴 함.\n",
    "    * 토큰화와 패딩.\n",
    "    * one hot encoding\n",
    "    * 데이터를 분할\n",
    "2. **Task에 알맞게 적절한 모델을 찾아보고 선정했는가?**\n",
    "    * 임베딩 레이어를 통해 고정된 크기의 벡터로 변환\n",
    "    * RNN: LSTM, GRU\n",
    "        * 대화의 흐름을 이해하고 감정을 예측하는 데 효과적\n",
    "        * LSTM과 GRU는 긴 시퀀스에서도 정보를 기억하고 사용하여 문장의 전후 맥락을 이해할 수 있음. 따라서 대화의 맥락을 이해하고 위협성을 판단하는 데 유리\n",
    "        * * loss = Sparse Categorical Crossentropy (다중 클래스 분류 문제에서 주로 사용되기 때문)\n",
    "    * 1D CNN\n",
    "        * : CNN은 텍스트 데이터에서 지역 패턴(예: 특정 단어 조합이나 구문)을 감지하는 데 뛰어납니다. 이는 특정 위협적인 표현을 감지하는 데 유리\n",
    "        * loss='categorical_crossentropy'\n",
    "    * BERT 한국어 모델\n",
    "        * BERT는 문장의 양방향 문맥을 이해\n",
    "        * BERT는 주로 텍스트 분류, 문장 유사성 평가 등에 사용\n",
    "        * loss='sparse_categorical_crossentropy'\n",
    "    \n",
    "3. **성능향상을 위해 논리적으로 접근했는가?**\n",
    "4. **결과 도출을 위해 여러가지 시도를 진행했는가?**\n",
    "5. **도출된 결론에 충분한 설득력이 있는가?**\n",
    "6. **적절한 metric을 설정하고 그 사용 근거 및 결과를 분석하였는가?**\n",
    "    * 정확도(Accuracy): 전체 데이터 중 맞게 분류된 데이터의 비율.\n",
    "    * 정밀도(Precision): 실제로 위협이 아닌 대화를 위협으로 잘못 예측한 경우를 줄이기 위한 지표.\n",
    "    * 재현율(Recall): 실제 위협 대화를 위협으로 잘 예측하는 비율.\n",
    "    * Confusion Matrix: 모델이 예측한 클래스와 실제 클래스 간의 혼동을 시각적으로 표현하여 어떤 클래스에서 오류가 발생하는지 확인\n",
    "7. **발표가 매끄럽게 진행되었고 발표시간을 준수하였는지?**"
   ]
  },
  {
   "cell_type": "markdown",
   "id": "3ba2df01",
   "metadata": {},
   "source": [
    "### 결측치 제거"
   ]
  },
  {
   "cell_type": "code",
   "execution_count": 97,
   "id": "cd8f9130",
   "metadata": {},
   "outputs": [
    {
     "name": "stdout",
     "output_type": "stream",
     "text": [
      "idx             0\n",
      "class           0\n",
      "conversation    0\n",
      "dtype: int64\n"
     ]
    }
   ],
   "source": [
    "print(train_data.isnull().sum())"
   ]
  },
  {
   "cell_type": "code",
   "execution_count": 98,
   "id": "76303ff4",
   "metadata": {},
   "outputs": [
    {
     "name": "stdout",
     "output_type": "stream",
     "text": [
      "0\n"
     ]
    }
   ],
   "source": [
    "print(train_data.isnull().sum()['class'])"
   ]
  },
  {
   "cell_type": "markdown",
   "id": "5863bfd5",
   "metadata": {},
   "source": [
    "### 중복제거"
   ]
  },
  {
   "cell_type": "code",
   "execution_count": 99,
   "id": "2e43aa04",
   "metadata": {},
   "outputs": [
    {
     "name": "stdout",
     "output_type": "stream",
     "text": [
      "3950\n"
     ]
    }
   ],
   "source": [
    "print(len(train_data))"
   ]
  },
  {
   "cell_type": "code",
   "execution_count": 100,
   "id": "e80a89ae",
   "metadata": {},
   "outputs": [
    {
     "name": "stdout",
     "output_type": "stream",
     "text": [
      "conversation열에서 중복을 배제한 유일한 샘플의 수 : 3846\n"
     ]
    }
   ],
   "source": [
    "print('conversation열에서 중복을 배제한 유일한 샘플의 수 :', train_data['conversation'].nunique())"
   ]
  },
  {
   "cell_type": "code",
   "execution_count": 101,
   "id": "e7c2562c",
   "metadata": {},
   "outputs": [
    {
     "name": "stdout",
     "output_type": "stream",
     "text": [
      "저기요. 잠깐만요\\n매일 왜이러세요. 전 할말 없어요\\n그 쪽이 좋아서요\\n전 관심 없어요. 오지 마세요\\n한 번만 만나주세요.\\n제발 이러지 마세요. 전 남자친구 있어요\\n결혼한 건 아니잖아요. 딱 한번만 데이트해요\\n내가 왜 그쪽이랑 만나요?\\n그 쪽이 내 스타일이에요\\n난 아니거든요.                                                                                                                                                        2\n",
      "야 석탄?\\n 내가 왜 석탄이야?\\n 얼굴이 까마니까 석탄이지.\\n 그만해.\\n 너 라이터 불붙이면 아주 잘 타겠다.\\n 가 비켜.\\n 아주 콧구멍 커지니까 이제 연탄이네.\\n 비키라고.\\n 야 연탄?\\n 제발 좀 그만해. 나 정말 힘들어.                                                                                                                                                                                    2\n",
      "진용아 내 내 가방 돌려줘\\n아하하 진용아? 가방 돌려줄까?\\n노 놀리지마\\n노 놀리지마\\n하아.\\n한숨 쉰 거야?\\n아 아 아아니야.\\n아 아 아 아니야? 하하하하\\n아아.\\n왜? 기분 나빠?                                                                                                                                                                                                              2\n",
      "김대리. 이번 주간 회의 발표 준비좀 해줘.\\n저 말입니까.?\\n응. 너가 해줘\\n과장님 저번에도 제가 했고 저기 아무것도 안하는 사람들 있지 않습니까.\\n그래서 하기 싫다고.?\\n너무 하신거 아닙니까.? 지금 다른 업무로 조금 바쁩니다.\\n그래 그럼 그만둬 바쁜게 싫으면 그만둬야지\\n아닙니다. 죄송합니다. 제가 하겠습니다\\n진작에 그냥 한다고 했으면 됐잖아\\n옙. 죄송합니다.                                                                                                      2\n",
      "너 일로 따라와봐.\\n왜 그러는데.?\\n그냥 닥치고 따라오라면 따라와 진짜\\n어어.\\n너 잘보니까 국어쌤이랑 닮았다? 너?\\n헐대박 똑같네\\n나 아까 국어쌤한테 불려가서 혼난거 알아 몰라. 화풀이상대가 여깄구만!\\n아 하지마.\\n뭐? 하지말라고? 벙어리가 말도 하네?\\n.너네들 신고할꺼야.!.\\n뭐? 할 수 있음 해보시던가 그냥 짜지고 살라고 학교에서                                                                                                                     2\n",
      "                                                                                                                                                                                                                                                                                                                         ..\n",
      "자네는 생각이 없는가?\\n네?\\n내가 자네 결혼할때 빈몸으로 와서 집을 사줬으면 우리 집에 주말마다와서 얼굴도 비추고 자네 장모 적적하니 이야기도 하고 밥도 해먹고 그래야하는거아닌가?\\n네? 저번주에도 들렸는데.\\n아니 장인어른이 말하면 네 죄송합니다 하면 되지 자네는 집에서 교육을 그렇게 받았는가?\\n장인어른 말씀이 좀 심하신 것 같습니다\\n왜 기분나쁜가? 나도 기분이 자네때문에 안좋네\\n제가 뭘 그렇게 잘못했는지도 모르겠습니다\\n나 참 사위라도 마음에 안드는거 데려왔어도 딸아이가 좋다길래 받아줬더니 기여코 이런 일이 생기네\\n장인어른 너무하십니다    1\n",
      "안녕하십니까 사장님\\n뭔 안녕해 미친놈아 저리 꺼져\\n죄송합니다 사장님\\n그러게 죄송할 짓을 왜 하고 자빠지나\\n죄송합니다.\\n자네 창의성이 없나 죄송하다는 말밖에 못하는 장애를 가지고 있어?\\n그럼 어떻게 말해야 하나요?\\n얼래? 지금 대드는 거야? 됐다 차라리 죄송하다고 말이나 해 멍청아                                                                                                                                                       1\n",
      "아 이거 꼭 사고 싶은데 돈이 모자라. 5만원만 주라\\n 5만원? 나 돈 없어\\n 있는거 다 알아 무슨 5만원도 없어\\n 진짜 없어 이번달 용돈 다 썼어\\n 뭐 사야된다 하고 집에서 받으면 되잖아\\n 저번달에도 그렇게 해서 엄마한테 받았어. 그 때도 네가 뭐 산다해서 줬잖아\\n 내가 돈 받으면 준다 했잖아 그건\\n 근데 안줬잖아\\n 아 열받게 하네. 너 왕따 당하고 싶어?\\n 아니. 그래도 너무하잖아 계속 돈을 요구하는건.\\n 그래서. 못 주겠어? 이거 곧 품절될 거 같으니까 내일까지 돈 가져와\\n. 알겠어.                           1\n",
      "담배 좀 사주라\\n나 돈없어\\n그럼 몸으로 때우던지\\n나 집에 가야돼 다음에 만나\\n야! 어딜 집에가 겁대가리 없이\\n왜이래? 나 정말 가봐야돼\\n야 담배 심부름 하고가야지\\n지금은 곤란해\\n맞고할래 그냥할래?\\n미안해                                                                                                                                                                                                1\n",
      "희정씨\\n네?\\n주말에 시간이 넘쳐나나봐\\n갑자기 왜그러세요?\\n손이 빤짝빤짝 네일했니?\\n네 여름이라 기분전환으로.\\n어휴 그손으로 결제 받으러 가면 윗분들 눈 아프시겠다 정신사나워\\n그냥 파스텔톤으로만 칠한건데.\\n희정씨가 윗사람이야?? 얼른 가서 지우고와\\n.네                                                                                                                                                                     1\n",
      "Name: conversation, Length: 3846, dtype: int64\n"
     ]
    }
   ],
   "source": [
    "print(train_data['conversation'].value_counts())"
   ]
  },
  {
   "cell_type": "code",
   "execution_count": 102,
   "id": "59469858",
   "metadata": {},
   "outputs": [
    {
     "name": "stdout",
     "output_type": "stream",
     "text": [
      "     idx      class                                       conversation\n",
      "262  262  기타 괴롭힘 대화  저기요. 잠깐만요\\n매일 왜이러세요. 전 할말 없어요\\n그 쪽이 좋아서요\\n전 관심...\n",
      "932  932  기타 괴롭힘 대화  저기요. 잠깐만요\\n매일 왜이러세요. 전 할말 없어요\\n그 쪽이 좋아서요\\n전 관심...\n"
     ]
    }
   ],
   "source": [
    "print(train_data[train_data['conversation'] == \"저기요. 잠깐만요\\n매일 왜이러세요. 전 할말 없어요\\n그 쪽이 좋아서요\\n전 관심 없어요. 오지 마세요\\n한 번만 만나주세요.\\n제발 이러지 마세요. 전 남자친구 있어요\\n결혼한 건 아니잖아요. 딱 한번만 데이트해요\\n내가 왜 그쪽이랑 만나요?\\n그 쪽이 내 스타일이에요\\n난 아니거든요.\"])"
   ]
  },
  {
   "cell_type": "code",
   "execution_count": 103,
   "id": "055eb653",
   "metadata": {},
   "outputs": [
    {
     "name": "stdout",
     "output_type": "stream",
     "text": [
      "       idx      class                                       conversation\n",
      "782    782  기타 괴롭힘 대화  야 석탄?\\n 내가 왜 석탄이야?\\n 얼굴이 까마니까 석탄이지.\\n 그만해.\\n 너...\n",
      "2656  2656  기타 괴롭힘 대화  야 석탄?\\n 내가 왜 석탄이야?\\n 얼굴이 까마니까 석탄이지.\\n 그만해.\\n 너...\n"
     ]
    }
   ],
   "source": [
    "print(train_data[train_data['conversation'] == '야 석탄?\\n 내가 왜 석탄이야?\\n 얼굴이 까마니까 석탄이지.\\n 그만해.\\n 너 라이터 불붙이면 아주 잘 타겠다.\\n 가 비켜.\\n 아주 콧구멍 커지니까 이제 연탄이네.\\n 비키라고.\\n 야 연탄?\\n 제발 좀 그만해. 나 정말 힘들어.'])"
   ]
  },
  {
   "cell_type": "code",
   "execution_count": 104,
   "id": "3db366fb",
   "metadata": {},
   "outputs": [
    {
     "name": "stdout",
     "output_type": "stream",
     "text": [
      "전체 샘플수 : 3846\n"
     ]
    }
   ],
   "source": [
    "# inplace=True 를 설정하면 DataFrame 타입 값을 return 하지 않고 data 내부를 직접적으로 바꿉니다\n",
    "train_data.drop_duplicates(subset = ['conversation'], inplace=True)\n",
    "print('전체 샘플수 :', (len(train_data)))"
   ]
  },
  {
   "cell_type": "markdown",
   "id": "d1a246b2",
   "metadata": {},
   "source": [
    "### 맞춤법검사, 형태소분석, 불용어제거, 특수문제 제거 등"
   ]
  },
  {
   "cell_type": "code",
   "execution_count": 64,
   "id": "a1f1c7a5",
   "metadata": {},
   "outputs": [],
   "source": [
    "#불용어\n",
    "stopwords = ['은','는','이','가','을','를','에','이가','이는']"
   ]
  },
  {
   "cell_type": "code",
   "execution_count": 41,
   "id": "c9926048",
   "metadata": {},
   "outputs": [],
   "source": [
    "from konlpy.tag import Okt\n",
    "\n",
    "# Okt 형태소 분석기 객체 생성\n",
    "okt = Okt()\n",
    "\n",
    "def morph_analyze(text):\n",
    "    # 텍스트에서 형태소 분석\n",
    "    morphs = okt.morphs(text)\n",
    "    return morphs"
   ]
  },
  {
   "cell_type": "code",
   "execution_count": null,
   "id": "45735c24",
   "metadata": {},
   "outputs": [],
   "source": [
    "# 부산대 맞춤법 분석기\n",
    "from hanspell import spell_checker\n",
    "import requests\n",
    "def check_spelling(text):\n",
    "    try:\n",
    "        # 맞춤법 검사 요청\n",
    "        result = spell_checker.check(text)\n",
    "        \n",
    "        # 응답 데이터 확인\n",
    "        data = result.as_dict()\n",
    "\n",
    "        # 'checked' 키 확인\n",
    "        if 'checked' in data:\n",
    "            return data['checked']\n",
    "        else:\n",
    "            print(\"Unexpected response format:\", data)\n",
    "            return text\n",
    "\n",
    "    except KeyError as e:\n",
    "        # KeyError 발생 시 응답 데이터를 출력하여 디버깅\n",
    "        print(f\"KeyError: {e}. The response format might have changed.\")\n",
    "        print(\"Response data:\", json.dumps(result, ensure_ascii=False, indent=4))\n",
    "        return text\n",
    "    \n",
    "    except Exception as e:\n",
    "        # 기타 예외 처리\n",
    "        print(f\"An error occurred: {e}\")\n",
    "        return text\n"
   ]
  },
  {
   "cell_type": "code",
   "execution_count": null,
   "id": "668c0e07",
   "metadata": {},
   "outputs": [],
   "source": [
    "# naver 맞춤법 검사기 사용해보기 -> local에서 사용한 뒤 csv파일로 만들어서 가져오기\n",
    "from selenium import webdriver\n",
    "from selenium.webdriver.common.keys import Keys\n",
    "from selenium.webdriver.chrome.service import Service\n",
    "from selenium.webdriver.common.by import By\n",
    "from webdriver_manager.chrome import ChromeDriverManager\n",
    "\n",
    "import json\n",
    "from bs4 import BeautifulSoup\n",
    "import time\n",
    "\n",
    "def spelling_checker(text):\n",
    "    # 맞춤법 검사기 페이지 찾아가기\n",
    "    driver = webdriver.Chrome()#ChromeDriverManager().install()\n",
    "    try:\n",
    "        driver.get(\"http://www.naver.com\")\n",
    "        elem = driver.find_element(\"name\",\"query\")\n",
    "        elem.send_keys(\"맞춤법 검사기\")\n",
    "        elem.send_keys(Keys.RETURN)\n",
    "        # 검사기 페이지에서 맞춤법 검사를 원하는 텍스트 넣기\n",
    "        elem = driver.find_element(By.CLASS_NAME,\"txt_gray\")\n",
    "        time.sleep(1)\n",
    "        elem.send_keys(text)\n",
    "        # 맞춤법 검사 시작 버튼 누르기\n",
    "        elem = driver.find_element(By.CLASS_NAME,\"btn_check\").click()\n",
    "        time.sleep(1)\n",
    "\n",
    "        # 맞춤법 검사 후 결과 가져오기\n",
    "        soup = BeautifulSoup(driver.page_source, 'html.parser')\n",
    "        print(soup.select(\"p._result_text.stand_txt\")[0].text)\n",
    "        corrected_text = soup.select(\"p._result_text.stand_txt\")[0].text\n",
    "        return corrected_text\n",
    "    \n",
    "    finally:\n",
    "        # 드라이버 종료\n",
    "        driver.quit()\n",
    "\n",
    "    \n",
    "# # 예시 텍스트\n",
    "# sample_text = \"저는 오늘 그 시람을 만났읍니다. 그리고 그 사람은 매우 친절했읍니다.\"\n",
    "\n",
    "# # 맞춤법 검사 적용\n",
    "# corrected_text = spelling_checker(sample_text)\n",
    "\n",
    "# print(\"Original Text:\", sample_text)\n",
    "# print(\"Corrected Text:\", corrected_text)"
   ]
  },
  {
   "cell_type": "code",
   "execution_count": 91,
   "id": "bd54484c",
   "metadata": {},
   "outputs": [],
   "source": [
    "import re\n",
    "\n",
    "def preprocess_sentence(sentence):\n",
    "    # 맞춤법 검사\n",
    "    \n",
    "    # 특정 단어는 @~@되어있기 때문에 처리필요. -> 고쳐야함\n",
    "    sentence = re.sub(r'@[^@]+@', 'pronoun', sentence)\n",
    "    # 특수문자 제거 (문장내의 특수 문자제거)\n",
    "    sentence = re.sub(r\"[^ㄱ-ㅎㅏ-ㅣ가-힣0-9a-zA-Z?.!\\s]\", \"\", sentence)\n",
    "    \n",
    "    # 영어라면 소문자로 변환\n",
    "    sentence = sentence.lower() # 텍스트 소문자화\n",
    "    #형태소 분석\n",
    "    sentence = morph_analyze(sentence)\n",
    "    \n",
    "    # 불용어 제거\n",
    "    sen = []\n",
    "    for word in sentence:\n",
    "        if word in stopwords:\n",
    "            continue\n",
    "        sen.append(word)\n",
    "       \n",
    "    sentence = ' '.join(sen)\n",
    "\n",
    "    return sentence"
   ]
  },
  {
   "cell_type": "code",
   "execution_count": 93,
   "id": "36de147f",
   "metadata": {},
   "outputs": [
    {
     "name": "stdout",
     "output_type": "stream",
     "text": [
      "거 할인 된다면서요 \n",
      "  check 해 보겠습니다 \n",
      " 아까 저 사람 할인 해 주던데 \n",
      " 네 저 손님 고객 님 이십 니 다 \n",
      " 고객 차별 하는 거 예요 ? \n",
      " 저희 pronoun 로 운영 돼서 그런 겁니다 \n",
      " 점 장 불러오세요 \n",
      " 손님 이건 점장님 도 해결 해 주시 지 못 합니다 \n",
      " 그니까 점 장 불러와 \n",
      " 진정 좀 해보세요\n"
     ]
    }
   ],
   "source": [
    "text = \"이거 할인된다면서요\\n check해 보겠습니다\\n아까 저 사람#은 할인해 주던데\\n네 저 손님은 고객님이십니다\\n고객을 차별하는 거예요?\\n저희는 @등급제@로 운영돼서 그런 겁니다\\n점장 불러오세요\\n손님 이건 점장님도 해결해 주시지 못합니다\\n그니까 점장 불러와\\n진정을 좀 해보세요\"\n",
    "\n",
    "text = preprocess_sentence(text)\n",
    "print(text)"
   ]
  },
  {
   "cell_type": "code",
   "execution_count": 92,
   "id": "f728eca0",
   "metadata": {},
   "outputs": [
    {
     "name": "stdout",
     "output_type": "stream",
     "text": [
      "거 할인 된다면서요 \n",
      "  check 해 보겠습니다 \n",
      " 아까 저 사람 할인 해 주던데 \n",
      " 네 저 손님 고객 님 이십 니 다 \n",
      " 고객 차별 하는 거 예요 ? \n",
      " 저희 pronoun 로 운영 돼서 그런 겁니다 \n",
      " 점 장 불러오세요 \n",
      " 손님 이건 점장님 도 해결 해 주시 지 못 합니다 \n",
      " 그니까 점 장 불러와 \n",
      " 진정 좀 해보세요\n"
     ]
    }
   ],
   "source": [
    "text = \"이거 할인된다면서요\\n CHeck해 보겠습니다\\n아까 저 사#람은 할인해 주던데\\n네 저 손님은 고객님이십니다\\n고객을 차별하는 거예요?\\n저희는 @등급제@로 운영돼서 그런 겁니다\\n점장 불러오세요\\n손님 이건 점장님도 해결해 주시지 못합니다\\n그니까 점장 불러와\\n진정을 좀 해보세요\"\n",
    "\n",
    "text = preprocess_sentence(text)\n",
    "print(text)"
   ]
  },
  {
   "cell_type": "code",
   "execution_count": 120,
   "id": "52514c10",
   "metadata": {},
   "outputs": [],
   "source": [
    "temp = train_data['conversation'].map(lambda x: preprocess_sentence(x))"
   ]
  },
  {
   "cell_type": "code",
   "execution_count": 121,
   "id": "3e21b938",
   "metadata": {},
   "outputs": [
    {
     "data": {
      "text/plain": [
       "0    지금 너 스스로를 죽여달라고 애원하는 것인가?\\n 아닙니다. 죄송합니다.\\n 죽을 ...\n",
       "1    길동경찰서입니다.\\n9시 40분 마트에 폭발물을 설치할거다.\\n네?\\n똑바로 들어 ...\n",
       "2    너 되게 귀여운거 알지? 나보다 작은 남자는 첨봤어.\\n그만해. 니들 놀리는거 재미...\n",
       "3    어이 거기\\n예??\\n너 말이야 너. 이리 오라고\\n무슨 일.\\n너 옷 좋아보인다?...\n",
       "4    저기요 혹시 날이 너무 뜨겁잖아요? 저희 회사에서 이 선크림 파는데 한 번 손등에 ...\n",
       "5    나 이틀뒤에 가나다 음식점 예약좀 해줘. 저녁7시로.\\n가나다 음식점이요.?\\n응....\n",
       "6    35번 손님 아이스커피 두잔나왔습니다\\n아이스커피? \\n네 맛있게드세요\\n저기요 아...\n",
       "7    경비아저씨 내차에 경고장 붙였어요?\\n내가 여기 몇년째 사는데 아직도 내차인줄 모르...\n",
       "8    이거 할인 된다면서요\\n 확인해보겠습니다\\n 아까 저 시람은 할인 해주던데\\n 네 ...\n",
       "9    자네 세금계산서 보내준 거 메일이랑 수치가 다르던데?\\n그게.\\n얼마나 해먹었어? ...\n",
       "Name: conversation, dtype: object"
      ]
     },
     "execution_count": 121,
     "metadata": {},
     "output_type": "execute_result"
    }
   ],
   "source": [
    "train_data['conversation'][:10]"
   ]
  },
  {
   "cell_type": "code",
   "execution_count": 118,
   "id": "4690eead",
   "metadata": {},
   "outputs": [
    {
     "data": {
      "text/plain": [
       "0    지금 너 스스로 를 죽이다 달라 고 애원 하다 것 인가 ? \\n  아니다 . 죄송하...\n",
       "1    길동 경찰서 이다 . \\n 9시 40분 마트 에 폭발물 을 설치 하다 . \\n 네 ...\n",
       "2    너 되게 귀엽다 알 지 ? 나 보다 작다 남자 는 첨 보다 . \\n 그만하다 . 니...\n",
       "3    어이 거기 \\n 예 ?? \\n 너 말 이야 너 . 이리 오라 고 \\n 무슨 일 . ...\n",
       "4    저기 요 혹시 날 이 너무 뜨겁다 ? 저희 회사 에서 이 선크림 팔다 하다 번 손등...\n",
       "5    나 이틀 뒤 에 가나다 음식점 예약 좀 해주다 . 저녁 7시 로 . \\n 가나다 음...\n",
       "6    35 번 손님 아이스커피 두 잔나 오다 \\n 아이스커피 ? 네 맛있다 들다 \\n 저...\n",
       "7    경비 아저씨 내 차 에 경고 장 붙이다 ? \\n 내 가 여기 몇 년 째 살다 아직도...\n",
       "8    이 거 할인 되다 \\n  확인 해보다 \\n  아깝다 저 시 람 은 할인 해주다 \\n...\n",
       "9    자네 세금 계산서 보내다 거 메일 이랑 수치 가 다르다 ? \\n 그게 . \\n 얼마...\n",
       "Name: conversation, dtype: object"
      ]
     },
     "execution_count": 118,
     "metadata": {},
     "output_type": "execute_result"
    }
   ],
   "source": [
    "temp[:10]"
   ]
  },
  {
   "cell_type": "code",
   "execution_count": null,
   "id": "86ef3975",
   "metadata": {},
   "outputs": [],
   "source": [
    "import tensorflow as tf\n",
    "import tensorflow_datasets as tfds\n",
    "from tensorflow.keras.preprocessing.text import Tokenizer \n",
    "from tensorflow.keras.preprocessing.sequence import pad_sequences\n",
    "\n",
    "# Make Vocabulary - using subwordTextEncoder\n",
    "def makeVocabulary(data):\n",
    "    tokenizer = tfds.deprecated.text.SubwordTextEncoder.build_from_corpus(\n",
    "    data, target_vocab_size=2**13)\n",
    "    \n",
    "    return tokenizer"
   ]
  },
  {
   "cell_type": "code",
   "execution_count": null,
   "id": "9614eb4a",
   "metadata": {},
   "outputs": [],
   "source": [
    "def getToken(data):\n",
    "    tokenizer = makeVocabulary(data)\n",
    "    # 시작 토큰과 종료 토큰에 고유한 정수를 부여합니다.\n",
    "    START_TOKEN, END_TOKEN = [tokenizer.vocab_size], [tokenizer.vocab_size + 1]\n",
    "    print('START_TOKEN의 번호 :' ,[tokenizer.vocab_size])\n",
    "    print('END_TOKEN의 번호 :' ,[tokenizer.vocab_size + 1])\n",
    "    # 시작 토큰과 종료 토큰을 고려하여 +2를 하여 단어장의 크기를 산정합니다.\n",
    "    VOCAB_SIZE = tokenizer.vocab_size + 2\n",
    "    print(VOCAB_SIZE)\n",
    "    return tokenizer, START_TOKEN, END_TOKEN, VOCAB_SIZE"
   ]
  },
  {
   "cell_type": "code",
   "execution_count": null,
   "id": "b1b04ade",
   "metadata": {},
   "outputs": [],
   "source": [
    "# 정수 인코딩, 최대 길이를 초과하는 샘플 제거, 패딩\n",
    "def tokenize_and_filter(inputs, outputs, MAX_LENGTH):\n",
    "    tokenized_inputs, tokenized_outputs = [], []\n",
    "    for (sentence1, sentence2) in zip(inputs, outputs):\n",
    "        # 정수 인코딩 과정에서 시작 토큰과 종료 토큰을 추가\n",
    "        sentence1 = START_TOKEN + tokenizer.encode(sentence1) + END_TOKEN\n",
    "        sentence2 = START_TOKEN + tokenizer.encode(sentence2) + END_TOKEN\n",
    "\n",
    "        # 최대 길이 이하인 경우에만 데이터셋으로 허용\n",
    "        if len(sentence1) <= MAX_LENGTH and len(sentence2) <= MAX_LENGTH:\n",
    "            tokenized_inputs.append(sentence1)\n",
    "            tokenized_outputs.append(sentence2)\n",
    "  # 최대 길이로 모든 데이터셋을 패딩\n",
    "    tokenized_inputs = tf.keras.preprocessing.sequence.pad_sequences(\n",
    "      tokenized_inputs, maxlen=MAX_LENGTH, padding='post')\n",
    "    tokenized_outputs = tf.keras.preprocessing.sequence.pad_sequences(\n",
    "      tokenized_outputs, maxlen=MAX_LENGTH, padding='post')\n",
    "    return tokenized_inputs, tokenized_outputs"
   ]
  },
  {
   "cell_type": "code",
   "execution_count": 105,
   "id": "39c3b764",
   "metadata": {},
   "outputs": [
    {
     "data": {
      "text/plain": [
       "array(['협박 대화', '기타 괴롭힘 대화', '갈취 대화', '직장 내 괴롭힘 대화'], dtype=object)"
      ]
     },
     "execution_count": 105,
     "metadata": {},
     "output_type": "execute_result"
    }
   ],
   "source": [
    "train_data['class'].unique()"
   ]
  },
  {
   "cell_type": "code",
   "execution_count": 109,
   "id": "888429cf",
   "metadata": {},
   "outputs": [],
   "source": [
    "# class_list = {'협박 대화': 0, '갈취 대화': 1. '직장 내 괴롭힘 대화': 2, '기타 괴롭힘 대화': 3, '일반 대화': 4}\n",
    "train_data.loc[train_data['class'] == '협박 대화', 'class'] = 0\n",
    "train_data.loc[train_data['class'] == '갈취 대화', 'class'] = 1\n",
    "train_data.loc[train_data['class'] == '직장 내 괴롭힘 대화', 'class'] = 2\n",
    "train_data.loc[train_data['class'] == '기타 괴롭힘 대화', 'class'] = 3\n",
    "train_data.loc[train_data['class'] == '일반 대화', 'class'] = 4"
   ]
  },
  {
   "cell_type": "code",
   "execution_count": 110,
   "id": "5f598c01",
   "metadata": {},
   "outputs": [
    {
     "data": {
      "text/html": [
       "<div>\n",
       "<style scoped>\n",
       "    .dataframe tbody tr th:only-of-type {\n",
       "        vertical-align: middle;\n",
       "    }\n",
       "\n",
       "    .dataframe tbody tr th {\n",
       "        vertical-align: top;\n",
       "    }\n",
       "\n",
       "    .dataframe thead th {\n",
       "        text-align: right;\n",
       "    }\n",
       "</style>\n",
       "<table border=\"1\" class=\"dataframe\">\n",
       "  <thead>\n",
       "    <tr style=\"text-align: right;\">\n",
       "      <th></th>\n",
       "      <th>idx</th>\n",
       "      <th>class</th>\n",
       "      <th>conversation</th>\n",
       "    </tr>\n",
       "  </thead>\n",
       "  <tbody>\n",
       "    <tr>\n",
       "      <th>0</th>\n",
       "      <td>0</td>\n",
       "      <td>0</td>\n",
       "      <td>지금 너 스스로를 죽여달라고 애원하는 것인가?\\n 아닙니다. 죄송합니다.\\n 죽을 ...</td>\n",
       "    </tr>\n",
       "    <tr>\n",
       "      <th>1</th>\n",
       "      <td>1</td>\n",
       "      <td>0</td>\n",
       "      <td>길동경찰서입니다.\\n9시 40분 마트에 폭발물을 설치할거다.\\n네?\\n똑바로 들어 ...</td>\n",
       "    </tr>\n",
       "    <tr>\n",
       "      <th>2</th>\n",
       "      <td>2</td>\n",
       "      <td>3</td>\n",
       "      <td>너 되게 귀여운거 알지? 나보다 작은 남자는 첨봤어.\\n그만해. 니들 놀리는거 재미...</td>\n",
       "    </tr>\n",
       "    <tr>\n",
       "      <th>3</th>\n",
       "      <td>3</td>\n",
       "      <td>1</td>\n",
       "      <td>어이 거기\\n예??\\n너 말이야 너. 이리 오라고\\n무슨 일.\\n너 옷 좋아보인다?...</td>\n",
       "    </tr>\n",
       "    <tr>\n",
       "      <th>4</th>\n",
       "      <td>4</td>\n",
       "      <td>1</td>\n",
       "      <td>저기요 혹시 날이 너무 뜨겁잖아요? 저희 회사에서 이 선크림 파는데 한 번 손등에 ...</td>\n",
       "    </tr>\n",
       "    <tr>\n",
       "      <th>...</th>\n",
       "      <td>...</td>\n",
       "      <td>...</td>\n",
       "      <td>...</td>\n",
       "    </tr>\n",
       "    <tr>\n",
       "      <th>3945</th>\n",
       "      <td>3945</td>\n",
       "      <td>3</td>\n",
       "      <td>준하야 넌 대가리가 왜이렇게 크냐?\\n내 머리가 뭐.\\n밥먹으면 대가리만 크냐 너는...</td>\n",
       "    </tr>\n",
       "    <tr>\n",
       "      <th>3946</th>\n",
       "      <td>3946</td>\n",
       "      <td>1</td>\n",
       "      <td>내가 지금 너 아들 김길준 데리고 있어. 살리고 싶으면 계좌에 1억만 보내\\n예.?...</td>\n",
       "    </tr>\n",
       "    <tr>\n",
       "      <th>3947</th>\n",
       "      <td>3947</td>\n",
       "      <td>2</td>\n",
       "      <td>나는 씨 같은 사람 보면 참 신기하더라. 어떻게 저렇게 살지.\\n왜 그래. 들리겠어...</td>\n",
       "    </tr>\n",
       "    <tr>\n",
       "      <th>3948</th>\n",
       "      <td>3948</td>\n",
       "      <td>1</td>\n",
       "      <td>누구맘대로 여기서 장사하래?\\n이게 무슨일입니까?\\n남의 구역에서 장사하려면 자릿세...</td>\n",
       "    </tr>\n",
       "    <tr>\n",
       "      <th>3949</th>\n",
       "      <td>3949</td>\n",
       "      <td>2</td>\n",
       "      <td>희정씨\\n네?\\n주말에 시간이 넘쳐나나봐\\n갑자기 왜그러세요?\\n손이 빤짝빤짝 네일...</td>\n",
       "    </tr>\n",
       "  </tbody>\n",
       "</table>\n",
       "<p>3846 rows × 3 columns</p>\n",
       "</div>"
      ],
      "text/plain": [
       "       idx class                                       conversation\n",
       "0        0     0  지금 너 스스로를 죽여달라고 애원하는 것인가?\\n 아닙니다. 죄송합니다.\\n 죽을 ...\n",
       "1        1     0  길동경찰서입니다.\\n9시 40분 마트에 폭발물을 설치할거다.\\n네?\\n똑바로 들어 ...\n",
       "2        2     3  너 되게 귀여운거 알지? 나보다 작은 남자는 첨봤어.\\n그만해. 니들 놀리는거 재미...\n",
       "3        3     1  어이 거기\\n예??\\n너 말이야 너. 이리 오라고\\n무슨 일.\\n너 옷 좋아보인다?...\n",
       "4        4     1  저기요 혹시 날이 너무 뜨겁잖아요? 저희 회사에서 이 선크림 파는데 한 번 손등에 ...\n",
       "...    ...   ...                                                ...\n",
       "3945  3945     3  준하야 넌 대가리가 왜이렇게 크냐?\\n내 머리가 뭐.\\n밥먹으면 대가리만 크냐 너는...\n",
       "3946  3946     1  내가 지금 너 아들 김길준 데리고 있어. 살리고 싶으면 계좌에 1억만 보내\\n예.?...\n",
       "3947  3947     2  나는 씨 같은 사람 보면 참 신기하더라. 어떻게 저렇게 살지.\\n왜 그래. 들리겠어...\n",
       "3948  3948     1  누구맘대로 여기서 장사하래?\\n이게 무슨일입니까?\\n남의 구역에서 장사하려면 자릿세...\n",
       "3949  3949     2  희정씨\\n네?\\n주말에 시간이 넘쳐나나봐\\n갑자기 왜그러세요?\\n손이 빤짝빤짝 네일...\n",
       "\n",
       "[3846 rows x 3 columns]"
      ]
     },
     "execution_count": 110,
     "metadata": {},
     "output_type": "execute_result"
    }
   ],
   "source": [
    "train_data"
   ]
  },
  {
   "cell_type": "code",
   "execution_count": 111,
   "id": "21f40ca0",
   "metadata": {},
   "outputs": [
    {
     "data": {
      "text/html": [
       "<div>\n",
       "<style scoped>\n",
       "    .dataframe tbody tr th:only-of-type {\n",
       "        vertical-align: middle;\n",
       "    }\n",
       "\n",
       "    .dataframe tbody tr th {\n",
       "        vertical-align: top;\n",
       "    }\n",
       "\n",
       "    .dataframe thead th {\n",
       "        text-align: right;\n",
       "    }\n",
       "</style>\n",
       "<table border=\"1\" class=\"dataframe\">\n",
       "  <thead>\n",
       "    <tr style=\"text-align: right;\">\n",
       "      <th></th>\n",
       "      <th>idx</th>\n",
       "      <th>class</th>\n",
       "      <th>conversation</th>\n",
       "      <th>0</th>\n",
       "      <th>1</th>\n",
       "      <th>2</th>\n",
       "      <th>3</th>\n",
       "    </tr>\n",
       "  </thead>\n",
       "  <tbody>\n",
       "    <tr>\n",
       "      <th>0</th>\n",
       "      <td>0</td>\n",
       "      <td>0</td>\n",
       "      <td>지금 너 스스로를 죽여달라고 애원하는 것인가?\\n 아닙니다. 죄송합니다.\\n 죽을 ...</td>\n",
       "      <td>1</td>\n",
       "      <td>0</td>\n",
       "      <td>0</td>\n",
       "      <td>0</td>\n",
       "    </tr>\n",
       "    <tr>\n",
       "      <th>1</th>\n",
       "      <td>1</td>\n",
       "      <td>0</td>\n",
       "      <td>길동경찰서입니다.\\n9시 40분 마트에 폭발물을 설치할거다.\\n네?\\n똑바로 들어 ...</td>\n",
       "      <td>1</td>\n",
       "      <td>0</td>\n",
       "      <td>0</td>\n",
       "      <td>0</td>\n",
       "    </tr>\n",
       "    <tr>\n",
       "      <th>2</th>\n",
       "      <td>2</td>\n",
       "      <td>3</td>\n",
       "      <td>너 되게 귀여운거 알지? 나보다 작은 남자는 첨봤어.\\n그만해. 니들 놀리는거 재미...</td>\n",
       "      <td>0</td>\n",
       "      <td>0</td>\n",
       "      <td>0</td>\n",
       "      <td>1</td>\n",
       "    </tr>\n",
       "    <tr>\n",
       "      <th>3</th>\n",
       "      <td>3</td>\n",
       "      <td>1</td>\n",
       "      <td>어이 거기\\n예??\\n너 말이야 너. 이리 오라고\\n무슨 일.\\n너 옷 좋아보인다?...</td>\n",
       "      <td>0</td>\n",
       "      <td>1</td>\n",
       "      <td>0</td>\n",
       "      <td>0</td>\n",
       "    </tr>\n",
       "    <tr>\n",
       "      <th>4</th>\n",
       "      <td>4</td>\n",
       "      <td>1</td>\n",
       "      <td>저기요 혹시 날이 너무 뜨겁잖아요? 저희 회사에서 이 선크림 파는데 한 번 손등에 ...</td>\n",
       "      <td>0</td>\n",
       "      <td>1</td>\n",
       "      <td>0</td>\n",
       "      <td>0</td>\n",
       "    </tr>\n",
       "    <tr>\n",
       "      <th>...</th>\n",
       "      <td>...</td>\n",
       "      <td>...</td>\n",
       "      <td>...</td>\n",
       "      <td>...</td>\n",
       "      <td>...</td>\n",
       "      <td>...</td>\n",
       "      <td>...</td>\n",
       "    </tr>\n",
       "    <tr>\n",
       "      <th>3945</th>\n",
       "      <td>3945</td>\n",
       "      <td>3</td>\n",
       "      <td>준하야 넌 대가리가 왜이렇게 크냐?\\n내 머리가 뭐.\\n밥먹으면 대가리만 크냐 너는...</td>\n",
       "      <td>0</td>\n",
       "      <td>0</td>\n",
       "      <td>0</td>\n",
       "      <td>1</td>\n",
       "    </tr>\n",
       "    <tr>\n",
       "      <th>3946</th>\n",
       "      <td>3946</td>\n",
       "      <td>1</td>\n",
       "      <td>내가 지금 너 아들 김길준 데리고 있어. 살리고 싶으면 계좌에 1억만 보내\\n예.?...</td>\n",
       "      <td>0</td>\n",
       "      <td>1</td>\n",
       "      <td>0</td>\n",
       "      <td>0</td>\n",
       "    </tr>\n",
       "    <tr>\n",
       "      <th>3947</th>\n",
       "      <td>3947</td>\n",
       "      <td>2</td>\n",
       "      <td>나는 씨 같은 사람 보면 참 신기하더라. 어떻게 저렇게 살지.\\n왜 그래. 들리겠어...</td>\n",
       "      <td>0</td>\n",
       "      <td>0</td>\n",
       "      <td>1</td>\n",
       "      <td>0</td>\n",
       "    </tr>\n",
       "    <tr>\n",
       "      <th>3948</th>\n",
       "      <td>3948</td>\n",
       "      <td>1</td>\n",
       "      <td>누구맘대로 여기서 장사하래?\\n이게 무슨일입니까?\\n남의 구역에서 장사하려면 자릿세...</td>\n",
       "      <td>0</td>\n",
       "      <td>1</td>\n",
       "      <td>0</td>\n",
       "      <td>0</td>\n",
       "    </tr>\n",
       "    <tr>\n",
       "      <th>3949</th>\n",
       "      <td>3949</td>\n",
       "      <td>2</td>\n",
       "      <td>희정씨\\n네?\\n주말에 시간이 넘쳐나나봐\\n갑자기 왜그러세요?\\n손이 빤짝빤짝 네일...</td>\n",
       "      <td>0</td>\n",
       "      <td>0</td>\n",
       "      <td>1</td>\n",
       "      <td>0</td>\n",
       "    </tr>\n",
       "  </tbody>\n",
       "</table>\n",
       "<p>3846 rows × 7 columns</p>\n",
       "</div>"
      ],
      "text/plain": [
       "       idx class                                       conversation  0  1  2  \\\n",
       "0        0     0  지금 너 스스로를 죽여달라고 애원하는 것인가?\\n 아닙니다. 죄송합니다.\\n 죽을 ...  1  0  0   \n",
       "1        1     0  길동경찰서입니다.\\n9시 40분 마트에 폭발물을 설치할거다.\\n네?\\n똑바로 들어 ...  1  0  0   \n",
       "2        2     3  너 되게 귀여운거 알지? 나보다 작은 남자는 첨봤어.\\n그만해. 니들 놀리는거 재미...  0  0  0   \n",
       "3        3     1  어이 거기\\n예??\\n너 말이야 너. 이리 오라고\\n무슨 일.\\n너 옷 좋아보인다?...  0  1  0   \n",
       "4        4     1  저기요 혹시 날이 너무 뜨겁잖아요? 저희 회사에서 이 선크림 파는데 한 번 손등에 ...  0  1  0   \n",
       "...    ...   ...                                                ... .. .. ..   \n",
       "3945  3945     3  준하야 넌 대가리가 왜이렇게 크냐?\\n내 머리가 뭐.\\n밥먹으면 대가리만 크냐 너는...  0  0  0   \n",
       "3946  3946     1  내가 지금 너 아들 김길준 데리고 있어. 살리고 싶으면 계좌에 1억만 보내\\n예.?...  0  1  0   \n",
       "3947  3947     2  나는 씨 같은 사람 보면 참 신기하더라. 어떻게 저렇게 살지.\\n왜 그래. 들리겠어...  0  0  1   \n",
       "3948  3948     1  누구맘대로 여기서 장사하래?\\n이게 무슨일입니까?\\n남의 구역에서 장사하려면 자릿세...  0  1  0   \n",
       "3949  3949     2  희정씨\\n네?\\n주말에 시간이 넘쳐나나봐\\n갑자기 왜그러세요?\\n손이 빤짝빤짝 네일...  0  0  1   \n",
       "\n",
       "      3  \n",
       "0     0  \n",
       "1     0  \n",
       "2     1  \n",
       "3     0  \n",
       "4     0  \n",
       "...  ..  \n",
       "3945  1  \n",
       "3946  0  \n",
       "3947  0  \n",
       "3948  0  \n",
       "3949  0  \n",
       "\n",
       "[3846 rows x 7 columns]"
      ]
     },
     "execution_count": 111,
     "metadata": {},
     "output_type": "execute_result"
    }
   ],
   "source": [
    "train_data.join(pd.get_dummies(train_data['class']) )"
   ]
  },
  {
   "cell_type": "code",
   "execution_count": null,
   "id": "f05472a6",
   "metadata": {},
   "outputs": [],
   "source": [
    "#고른 데이터 사용을 위해 각 class에서 80%씩 train dataset에 넣고 20%는 validation dataset에 넣기\n",
    "def makeDataset(data):\n",
    "    # stratify : class가 균등하게 나눠지게 됨.train_test_split stratify\n",
    "    # conversation - X_train, label - y_train\n",
    "    data0 = train_data[train_data['협박 대화'] == 1]\n",
    "    data1 = train_data[train_data['갈취 대화'] == 1]\n",
    "    data2 = train_data[train_data['직장 내 괴롭힘 대화'] == 1]\n",
    "    data3 = train_data[train_data['기타 괴롭힘 대화'] == 1]\n",
    "    data4 = train_data[train_data['일반 대화'] == 1]\n",
    "    \n",
    "     # 각 데이터를 80%는 train, 20%는 validation으로 분할\n",
    "    train_data1, val_data1 = train_test_split(data1, test_size=0.2, random_state=42)\n",
    "    train_data2, val_data2 = train_test_split(data2, test_size=0.2, random_state=42)\n",
    "    train_data3, val_data3 = train_test_split(data3, test_size=0.2, random_state=42)\n",
    "    train_data4, val_data4 = train_test_split(data4, test_size=0.2, random_state=42)\n",
    "    train_data5, val_data5 = train_test_split(data5, test_size=0.2, random_state=42)\n",
    "    \n",
    "    \n",
    "    # 각 카테고리의 train 데이터를 하나로 합침\n",
    "    X_train = pd.concat([train_data1, train_data2, train_data3, train_data4, train_data5])\n",
    "\n",
    "    # 각 카테고리의 validation 데이터를 하나로 합침\n",
    "    X_val = pd.concat([val_data1, val_data2, val_data3, val_data4, val_data5])\n",
    "\n",
    "    return X_train, X_val "
   ]
  }
 ],
 "metadata": {
  "kernelspec": {
   "display_name": "Python 3 (ipykernel)",
   "language": "python",
   "name": "python3"
  },
  "language_info": {
   "codemirror_mode": {
    "name": "ipython",
    "version": 3
   },
   "file_extension": ".py",
   "mimetype": "text/x-python",
   "name": "python",
   "nbconvert_exporter": "python",
   "pygments_lexer": "ipython3",
   "version": "3.9.7"
  }
 },
 "nbformat": 4,
 "nbformat_minor": 5
}
